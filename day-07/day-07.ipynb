{
 "cells": [
  {
   "cell_type": "code",
   "execution_count": 7,
   "metadata": {},
   "outputs": [
    {
     "name": "stdout",
     "output_type": "stream",
     "text": [
      "0\n"
     ]
    }
   ],
   "source": [
    "file1 = open('day07-practice.txt', 'r')\n",
    "\n",
    "# file1 = open('day07-input.txt', 'r')\n",
    "data = file1.readlines()\n",
    "\n",
    "\n",
    "class TreeNode:\n",
    "    def __init__(self, parent):\n",
    "            self.parent = parent\n",
    "            self.child = None\n",
    "\n",
    "    \n",
    "# PART 1\n",
    "\n",
    "count = 0\n",
    "global_size = 0\n",
    "\n",
    "state = None\n",
    "current_dir = 0\n",
    "\n",
    "\n",
    "for i in data:\n",
    "    if i[0] == \"$ls\":\n",
    "        parent = TreeNode(i)\n",
    "        print(i)\n",
    "\n",
    "    elif state == \"list\":\n",
    "        current_dir.append\n",
    "\n",
    "\n",
    "print(count)"
   ]
  }
 ],
 "metadata": {
  "kernelspec": {
   "display_name": "Python 3.11.0 64-bit",
   "language": "python",
   "name": "python3"
  },
  "language_info": {
   "codemirror_mode": {
    "name": "ipython",
    "version": 3
   },
   "file_extension": ".py",
   "mimetype": "text/x-python",
   "name": "python",
   "nbconvert_exporter": "python",
   "pygments_lexer": "ipython3",
   "version": "3.11.0"
  },
  "orig_nbformat": 4,
  "vscode": {
   "interpreter": {
    "hash": "aee8b7b246df8f9039afb4144a1f6fd8d2ca17a180786b69acc140d282b71a49"
   }
  }
 },
 "nbformat": 4,
 "nbformat_minor": 2
}
