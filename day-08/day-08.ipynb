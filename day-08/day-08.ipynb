{
 "cells": [
  {
   "cell_type": "code",
   "execution_count": 71,
   "metadata": {},
   "outputs": [
    {
     "name": "stdout",
     "output_type": "stream",
     "text": [
      "5 is visible ( 1 , 1 ) --count:-- 1\n",
      "vis: 1\n",
      "5 too short\n",
      "vis: 1\n",
      "2 too short\n",
      "vis: 1\n",
      "6 too short\n",
      "vis: 1\n",
      "6 too short\n",
      "vis: 1\n",
      "6 too short\n",
      "vis: 1\n",
      "3 too short\n",
      "vis: 1\n",
      "5 is visible ( 3 , 2 ) --count:-- 1\n",
      "vis: 2\n",
      "5 too short\n",
      "vis: 2\n"
     ]
    }
   ],
   "source": [
    "file1 = open('day08-practice.txt', 'r')\n",
    "\n",
    "# file1 = open('day08-input.txt', 'r')\n",
    "lines = file1.readlines()\n",
    "\n",
    "\n",
    "visible_count = 0\n",
    "count = 0\n",
    "\n",
    "# PART 1\n",
    "\n",
    "def checkTreeVisibility(row, col, visible_count):\n",
    "    visible_count = 0\n",
    "    curr_tree = lines[row][col]\n",
    "    # print(\"Row:\", row, \"Col:\", col)\n",
    "    for cols_left in range(0, col):\n",
    "        if lines[row][cols_left] >= curr_tree:\n",
    "            print(lines[row][cols_left], \"too short\")\n",
    "            return visible_count\n",
    "\n",
    "\n",
    "    # for cols_right in range(col, len(lines[row])):\n",
    "    #     if lines[row][cols_right] >= curr_tree:\n",
    "    #         print(lines[row][cols_right], \"too short\")\n",
    "    #         return visible_count\n",
    "\n",
    "    \n",
    "    visible_count = 1\n",
    "\n",
    "    print(curr_tree, \"is visible\", \"(\", row, \",\", col, \")\", \"--count:--\", visible_count)\n",
    "    # print(visible_count, \"<- visible count\")\n",
    "    return visible_count\n",
    "\n",
    "\n",
    "for row in range(1, len(lines)-1):\n",
    "    for col in range(1, len(lines[row])-2):\n",
    "        # print(lines[row][col])\n",
    "        curr_tree = lines[row][col]\n",
    "        visible_count += checkTreeVisibility(row, col, visible_count)\n",
    "        print(\"vis:\", visible_count)"
   ]
  },
  {
   "cell_type": "code",
   "execution_count": null,
   "metadata": {},
   "outputs": [],
   "source": []
  }
 ],
 "metadata": {
  "kernelspec": {
   "display_name": "Python 3.11.0 64-bit",
   "language": "python",
   "name": "python3"
  },
  "language_info": {
   "codemirror_mode": {
    "name": "ipython",
    "version": 3
   },
   "file_extension": ".py",
   "mimetype": "text/x-python",
   "name": "python",
   "nbconvert_exporter": "python",
   "pygments_lexer": "ipython3",
   "version": "3.11.0"
  },
  "orig_nbformat": 4,
  "vscode": {
   "interpreter": {
    "hash": "aee8b7b246df8f9039afb4144a1f6fd8d2ca17a180786b69acc140d282b71a49"
   }
  }
 },
 "nbformat": 4,
 "nbformat_minor": 2
}
