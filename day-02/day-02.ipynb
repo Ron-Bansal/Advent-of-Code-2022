{
 "cells": [
  {
   "cell_type": "code",
   "execution_count": 24,
   "metadata": {},
   "outputs": [
    {
     "name": "stdout",
     "output_type": "stream",
     "text": [
      "Round outcome pts: 8511 \n",
      "Shape selection pts: 5054\n"
     ]
    }
   ],
   "source": [
    "file1 = open('day02-input.txt', 'r')\n",
    "lines = file1.readlines()\n",
    "\n",
    "# PART 1\n",
    "# Work out outcome of the game and summing the wins (outcome_pts), treating draws serpately\n",
    "# Add in the shape points at for the round (shape_pts)\n",
    "  \n",
    "outcome_pts = 0\n",
    "shape_pts = 0\n",
    "\n",
    "for i in lines:\n",
    "    if (i[0] == \"A\") and (i[2] == \"X\") or (i[0] == \"B\") and (i[2] == \"Y\") or (i[0] == \"C\") and (i[2] == \"Z\"):\n",
    "        # print(\"DRAW\")\n",
    "        outcome_pts += 3\n",
    "\n",
    "    elif i[0] == \"A\":\n",
    "        # print(\"Rock played\")\n",
    "        if i[2] == \"Y\":\n",
    "            outcome_pts += 6\n",
    "    elif i[0] == \"B\":\n",
    "        # print(\"Paper played\")\n",
    "        if i[2] == \"Z\":\n",
    "            outcome_pts += 6\n",
    "    elif i[0] == \"C\":\n",
    "        # print(\"Scissors played\")\n",
    "        if i[2] == \"X\":\n",
    "            outcome_pts += 6\n",
    "        \n",
    "    if i[2] == \"X\":\n",
    "        shape_pts += 1\n",
    "    elif i[2] == \"Y\":\n",
    "        shape_pts += 2\n",
    "    elif i[2] == \"Z\":\n",
    "        shape_pts += 3\n",
    "\n",
    "print(\"Round outcome pts:\", outcome_pts, '\\n' \"Shape selection pts:\", shape_pts)"
   ]
  },
  {
   "cell_type": "code",
   "execution_count": 11,
   "metadata": {},
   "outputs": [
    {
     "data": {
      "text/plain": [
       "13565"
      ]
     },
     "execution_count": 11,
     "metadata": {},
     "output_type": "execute_result"
    }
   ],
   "source": [
    "total_score = outcome_pts + shape_pts"
   ]
  },
  {
   "cell_type": "code",
   "execution_count": 23,
   "metadata": {},
   "outputs": [
    {
     "name": "stdout",
     "output_type": "stream",
     "text": [
      "Round outcome pts: 7662 \n",
      "Shape selection pts: 4762\n"
     ]
    }
   ],
   "source": [
    "# PART 2\n",
    "# Work out what shapes I must play (shape_pts) based on the outcome of the game (outcome_pts)\n",
    "\n",
    "outcome_pts = 0\n",
    "shape_pts = 0\n",
    "\n",
    "for i in lines:\n",
    "    if (i[2] == \"X\"):\n",
    "        # print(\"LOSE\")\n",
    "        outcome_pts += 0\n",
    "        if i[0] == \"A\":\n",
    "            shape_pts += 3\n",
    "        elif i[0] == \"B\":\n",
    "            shape_pts += 1\n",
    "        elif i[0] == \"C\":\n",
    "            shape_pts += 2\n",
    "\n",
    "    elif (i[2] == \"Y\"):\n",
    "        # print(\"DRAW\")\n",
    "        outcome_pts += 3\n",
    "        if i[0] == \"A\":\n",
    "            shape_pts += 1\n",
    "        elif i[0] == \"B\":\n",
    "            shape_pts += 2\n",
    "        elif i[0] == \"C\":\n",
    "            shape_pts += 3\n",
    "\n",
    "    elif (i[2] == \"Z\"):\n",
    "        # print(\"WIN\")\n",
    "        outcome_pts += 6\n",
    "        if i[0] == \"A\":\n",
    "            shape_pts += 2\n",
    "        elif i[0] == \"B\":\n",
    "            shape_pts += 3\n",
    "        elif i[0] == \"C\":\n",
    "            shape_pts += 1\n",
    "\n",
    "\n",
    "print(\"Round outcome pts:\", outcome_pts, '\\n' \"Shape selection pts:\", shape_pts)\n"
   ]
  },
  {
   "cell_type": "code",
   "execution_count": 18,
   "metadata": {},
   "outputs": [
    {
     "data": {
      "text/plain": [
       "12424"
      ]
     },
     "execution_count": 18,
     "metadata": {},
     "output_type": "execute_result"
    }
   ],
   "source": [
    "total_score = outcome_pts + shape_pts\n",
    "total_score"
   ]
  }
 ],
 "metadata": {
  "kernelspec": {
   "display_name": "Python 3.11.0 64-bit",
   "language": "python",
   "name": "python3"
  },
  "language_info": {
   "codemirror_mode": {
    "name": "ipython",
    "version": 3
   },
   "file_extension": ".py",
   "mimetype": "text/x-python",
   "name": "python",
   "nbconvert_exporter": "python",
   "pygments_lexer": "ipython3",
   "version": "3.11.0"
  },
  "orig_nbformat": 4,
  "vscode": {
   "interpreter": {
    "hash": "aee8b7b246df8f9039afb4144a1f6fd8d2ca17a180786b69acc140d282b71a49"
   }
  }
 },
 "nbformat": 4,
 "nbformat_minor": 2
}
